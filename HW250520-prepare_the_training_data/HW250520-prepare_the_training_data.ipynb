{
 "cells": [
  {
   "cell_type": "markdown",
   "metadata": {},
   "source": [
    "# HW250520-prepare_the_training_data"
   ]
  },
  {
   "cell_type": "markdown",
   "metadata": {},
   "source": [
    "Print the RGB values of pixels in a rectangle bounded by:\n",
    "top_left_x, top_left_y, bottom_right_x, bottom_right_y."
   ]
  },
  {
   "cell_type": "code",
   "execution_count": 1,
   "metadata": {
    "id": "0GelMzaXfGco"
   },
   "outputs": [],
   "source": [
    "import cv2\n",
    "img = cv2.imread('MyImage.jpg')"
   ]
  },
  {
   "cell_type": "code",
   "execution_count": 2,
   "metadata": {
    "id": "P6zvAbkJfTcu"
   },
   "outputs": [
    {
     "name": "stdout",
     "output_type": "stream",
     "text": [
      "Pixels RGB value from top_left to bottom_right:\n",
      "\n",
      " [[[205 191 172]\n",
      "  [205 191 172]\n",
      "  [203 189 170]]\n",
      "\n",
      " [[207 193 174]\n",
      "  [205 191 172]\n",
      "  [207 193 174]]\n",
      "\n",
      " [[206 192 173]\n",
      "  [206 192 173]\n",
      "  [206 192 173]]]\n"
     ]
    }
   ],
   "source": [
    "def show_rgb_in_rectangle(img, top_left_x = 0, top_left_y = 0, bottom_right_x = 2, bottom_right_y = 2):\n",
    "    # Check img is loaded\n",
    "    if img is None:\n",
    "        print(\"Image not loaded.\")\n",
    "        return\n",
    "    \n",
    "    # Invalid rectangle coordinates\n",
    "    if(top_left_x > bottom_right_x or top_left_y > bottom_right_y):\n",
    "        print(\"Top_left coordinates are larger than bottom_right coordinates!\")\n",
    "        return\n",
    "    \n",
    "    # Check value range. img.shape = (height, width, channels)\n",
    "    bottom_right_y += 1; bottom_right_x += 1\n",
    "    if(top_left_x < 0 or top_left_y < 0 or \n",
    "       bottom_right_x >= img.shape[1] or bottom_right_y >= img.shape[0]):\n",
    "        print(\"Coordinates are out of image bounds!\")\n",
    "        return\n",
    "    \n",
    "    # img array structure: [Row, column]\n",
    "    print(\"Pixels RGB value from top_left to bottom_right:\\n\\n\", img[top_left_y:bottom_right_y, top_left_x:bottom_right_x])\n",
    "\n",
    "top_left_x     = 1\n",
    "top_left_y     = 2\n",
    "bottom_right_x = 3\n",
    "bottom_right_y = 4\n",
    "\n",
    "show_rgb_in_rectangle(img, top_left_x, top_left_y, bottom_right_x, bottom_right_y)"
   ]
  },
  {
   "cell_type": "code",
   "execution_count": 3,
   "metadata": {},
   "outputs": [
    {
     "name": "stdout",
     "output_type": "stream",
     "text": [
      "Image not loaded.\n"
     ]
    }
   ],
   "source": [
    "imgNE = cv2.imread(\"nonExistent.jpg\")\n",
    "show_rgb_in_rectangle(imgNE, top_left_x, top_left_y, bottom_right_x, bottom_right_y)"
   ]
  },
  {
   "cell_type": "code",
   "execution_count": 4,
   "metadata": {},
   "outputs": [
    {
     "name": "stdout",
     "output_type": "stream",
     "text": [
      "Coordinates are out of image bounds!\n"
     ]
    }
   ],
   "source": [
    "show_rgb_in_rectangle(img, top_left_x, top_left_y, img.shape[1], bottom_right_y)"
   ]
  },
  {
   "cell_type": "code",
   "execution_count": 5,
   "metadata": {},
   "outputs": [
    {
     "name": "stdout",
     "output_type": "stream",
     "text": [
      "Top_left coordinates are larger than bottom_right coordinates!\n"
     ]
    }
   ],
   "source": [
    "show_rgb_in_rectangle(img, bottom_right_x + 1, bottom_right_y, bottom_right_x, bottom_right_y)"
   ]
  }
 ],
 "metadata": {
  "colab": {
   "name": "Inspecting_grayscale_images.ipynb",
   "provenance": []
  },
  "kernelspec": {
   "display_name": "Python 3 (ipykernel)",
   "language": "python",
   "name": "python3"
  },
  "language_info": {
   "codemirror_mode": {
    "name": "ipython",
    "version": 3
   },
   "file_extension": ".py",
   "mimetype": "text/x-python",
   "name": "python",
   "nbconvert_exporter": "python",
   "pygments_lexer": "ipython3",
   "version": "3.8.10"
  }
 },
 "nbformat": 4,
 "nbformat_minor": 4
}
