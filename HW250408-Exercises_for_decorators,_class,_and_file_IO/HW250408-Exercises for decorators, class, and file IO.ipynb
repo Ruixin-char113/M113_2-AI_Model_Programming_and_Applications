{
 "cells": [
  {
   "cell_type": "markdown",
   "id": "b882d06a-7395-4ff6-bee2-0d97fa3ee84e",
   "metadata": {},
   "source": [
    "# HW250408-Exercises for decorators, class, and file I/O"
   ]
  },
  {
   "cell_type": "markdown",
   "id": "71123ad2-6db2-4534-9f13-e91ece3588e6",
   "metadata": {},
   "source": [
    "## Exercise 1"
   ]
  },
  {
   "cell_type": "markdown",
   "id": "7f6d0afe-4b21-427a-afba-b3dd6167b222",
   "metadata": {},
   "source": [
    "write a python program to implement MyRationalNumber class,\n",
    "and MyComplexNumber class, which could make the following\n",
    "statements work.\n",
    "``` Python\n",
    "a = MyRationNumber(4,3) # a=4/3\n",
    "b = MyRationNumber(4,6) # b = 4/6\n",
    "print(a+b) # 2\n",
    "print(a*b) # 8/9\n",
    "c = MyComplexNumber(2,3) # c = 2 + 3i\n",
    "d = MyComplexNumber(4,5) # d = 4 + 5i\n",
    "print(c+d) # 6+8i\n",
    "print(c*d) # -7+22i\n",
    "```"
   ]
  },
  {
   "cell_type": "code",
   "execution_count": 195,
   "id": "b7f4b4e6-6b46-4728-9446-ba287cc9e20e",
   "metadata": {},
   "outputs": [
    {
     "name": "stdout",
     "output_type": "stream",
     "text": [
      "2\n",
      "8/9\n",
      "6+8i\n",
      "-7+22i\n"
     ]
    }
   ],
   "source": [
    "from fractions import Fraction\n",
    "\n",
    "class MyRationNumber:\n",
    "    def __init__(self, numerator, denominator):\n",
    "        self.value = Fraction(numerator, denominator)\n",
    "    def __add__(self, other):\n",
    "        third = self.value + other.value\n",
    "        return MyRationNumber(third.numerator, third.denominator)\n",
    "    def __mul__(self, other):\n",
    "        third = self.value * other.value\n",
    "        return MyRationNumber(third.numerator, third.denominator)\n",
    "    def __str__(self):\n",
    "        return str(self.value)\n",
    "    def __repr__(self):\n",
    "        return str(self.value)\n",
    "    \n",
    "class MyComplexNumber():\n",
    "    def __init__(self, real, imag):\n",
    "        self.value = complex(real, imag)\n",
    "    def __add__(self, other):\n",
    "        third = self.value + other.value\n",
    "        return MyComplexNumber(third.real, third.imag)\n",
    "    def __mul__(self, other):\n",
    "        third = self.value * other.value\n",
    "        return MyComplexNumber(third.real, third.imag)\n",
    "    def __str__(self):\n",
    "        sign = '+' if self.value.imag >= 0 else '-'\n",
    "        return f'{int(self.value.real)}{sign}{int(self.value.imag)}i'\n",
    "    def __repr__(self):\n",
    "        sign = '+' if self.value.imag >= 0 else '-'\n",
    "        return f'{int(self.value.real)}{sign}{abs(int(self.value.imag))}i'\n",
    "    \n",
    "a = MyRationNumber(4,3) # a=4/3\n",
    "b = MyRationNumber(4,6) # b = 4/6\n",
    "print(a+b) # 2\n",
    "print(a*b) # 8/9\n",
    "c = MyComplexNumber(2,3) # c = 2 + 3i\n",
    "d = MyComplexNumber(4,5) # d = 4 + 5i\n",
    "print(c+d) # 6+8i\n",
    "print(c*d) # -7+22i"
   ]
  },
  {
   "cell_type": "markdown",
   "id": "f2f7b546-be92-4a74-bf35-e364a62cac6b",
   "metadata": {},
   "source": [
    "## Exercise 2"
   ]
  },
  {
   "cell_type": "markdown",
   "id": "c750b7bf-fe81-4c7b-8ed3-4ca649df3ac1",
   "metadata": {},
   "source": [
    "### a"
   ]
  },
  {
   "cell_type": "markdown",
   "id": "d8497868-2c02-42d5-929d-0c85697f80ff",
   "metadata": {},
   "source": [
    "Write a python program to read in a text file *num.txt* which contains\n",
    "the scores of students. Use decorator to calculate the number of\n",
    "students in each range: 0-9, 10-19, 20-29, 30-39, …, 90-99, 100, and\n",
    "the number of students which scores are invalid."
   ]
  },
  {
   "cell_type": "code",
   "execution_count": 196,
   "id": "3c800ffb-b92c-44ef-941d-10d9cacc05d0",
   "metadata": {},
   "outputs": [
    {
     "name": "stdout",
     "output_type": "stream",
     "text": [
      "0 - 9 : 103\n",
      "10 - 19 : 100\n",
      "20 - 29 : 81\n",
      "30 - 39 : 103\n",
      "40 - 49 : 89\n",
      "50 - 59 : 88\n",
      "60 - 69 : 106\n",
      "70 - 79 : 95\n",
      "80 - 89 : 113\n",
      "90 - 99 : 111\n",
      "100 : 11\n",
      "invalid: 4\n"
     ]
    }
   ],
   "source": [
    "count = [0] * 12\n",
    "\n",
    "def decorateCountf(func):\n",
    "    def countf(file):\n",
    "        with open(file) as fh:\n",
    "            for line in fh:\n",
    "                n = int(line.strip())\n",
    "                if n < 0 or n > 100:\n",
    "                    count[11] += 1\n",
    "                elif n == 100:\n",
    "                    count[10] += 1\n",
    "                else:\n",
    "                    for i in range(10):\n",
    "                        if n >= (i * 10) and n <= (i * 10 + 9):\n",
    "                            count[i] += 1\n",
    "                            break\n",
    "        func()\n",
    "    return countf\n",
    "\n",
    "@decorateCountf\n",
    "def printAns():\n",
    "    for i in range(12):\n",
    "        if i == 11:\n",
    "            print('invalid:', count[i])\n",
    "        elif i == 10:\n",
    "            print(i*10,':', count[i])\n",
    "        else:\n",
    "            print(i*10,'-',i*10+9,':', count[i])\n",
    "\n",
    "printAns('num.txt')"
   ]
  },
  {
   "cell_type": "markdown",
   "id": "ec99d90a-413f-4a98-89f9-fc8d402a310b",
   "metadata": {},
   "source": [
    "### b"
   ]
  },
  {
   "cell_type": "markdown",
   "id": "c3b02193-54c9-47d1-bc54-904501d36034",
   "metadata": {},
   "source": [
    "Use multiple decorators on a function which:  \n",
    "(1) calculate number of invalid scores,  \n",
    "(2) calculate the number of students in each range,  \n",
    "(3) sort the 1000 scores,  \n",
    "(4) and finally calculate the execution time of the function"
   ]
  },
  {
   "cell_type": "code",
   "execution_count": 197,
   "id": "3c7d39d0-4226-4c60-a87c-27e6ff032681",
   "metadata": {},
   "outputs": [
    {
     "name": "stdout",
     "output_type": "stream",
     "text": [
      "(1) invalid scores: 4\n",
      "(2) The number of students in each range:\n",
      "0 - 9 : 103\n",
      "10 - 19 : 100\n",
      "20 - 29 : 81\n",
      "30 - 39 : 103\n",
      "40 - 49 : 89\n",
      "50 - 59 : 88\n",
      "60 - 69 : 106\n",
      "70 - 79 : 95\n",
      "80 - 89 : 113\n",
      "90 - 99 : 111\n",
      "100: 11\n",
      "(3) Sort the 1000 scores:\n",
      "[0, 0, 0, 0, 0, 0, 0, 0, 0, 0, 0, 1, 1, 1, 1, 1, 1, 1, 1, 1, 1, 1, 1, 1, 2, 2, 2, 2, 2, 2, 2, 2, 2, 3, 3, 3, 3, 3, 3, 3, 4, 4, 4, 4, 4, 4, 4, 4, 4, 4, 5, 5, 5, 5, 5, 5, 5, 5, 6, 6, 6, 6, 6, 6, 6, 6, 6, 6, 6, 6, 6, 7, 7, 7, 7, 7, 7, 7, 7, 7, 7, 7, 8, 8, 8, 8, 8, 8, 8, 9, 9, 9, 9, 9, 9, 9, 9, 9, 9, 9, 9, 9, 9, 10, 10, 10, 10, 10, 10, 10, 10, 10, 10, 10, 11, 11, 11, 11, 11, 11, 11, 11, 11, 11, 11, 11, 12, 12, 12, 12, 12, 12, 12, 13, 13, 13, 13, 13, 13, 13, 13, 13, 14, 14, 14, 14, 14, 14, 14, 14, 14, 14, 14, 14, 15, 15, 15, 15, 15, 15, 15, 15, 15, 16, 16, 16, 16, 16, 16, 16, 16, 16, 16, 16, 17, 17, 17, 17, 17, 17, 17, 17, 17, 17, 17, 17, 17, 17, 17, 17, 18, 18, 18, 18, 18, 19, 19, 19, 19, 19, 19, 19, 19, 20, 20, 20, 20, 20, 20, 20, 20, 20, 20, 21, 21, 21, 21, 21, 21, 21, 21, 21, 22, 22, 22, 22, 23, 23, 23, 23, 23, 24, 24, 24, 24, 24, 24, 24, 24, 24, 25, 25, 25, 25, 25, 25, 25, 25, 26, 26, 26, 26, 26, 26, 26, 26, 26, 26, 27, 27, 27, 27, 27, 27, 27, 28, 28, 28, 28, 28, 28, 28, 28, 28, 29, 29, 29, 29, 29, 29, 29, 29, 29, 29, 30, 30, 30, 30, 30, 30, 30, 30, 31, 31, 31, 31, 31, 31, 31, 31, 31, 31, 31, 31, 31, 31, 31, 31, 31, 31, 32, 32, 32, 32, 32, 32, 32, 32, 33, 33, 33, 33, 33, 33, 33, 33, 33, 33, 33, 33, 34, 34, 34, 34, 34, 34, 34, 34, 34, 34, 35, 35, 35, 35, 35, 35, 35, 36, 36, 36, 36, 36, 36, 36, 36, 36, 36, 36, 37, 37, 37, 37, 37, 37, 37, 37, 37, 37, 38, 38, 38, 38, 38, 38, 39, 39, 39, 39, 39, 39, 39, 39, 39, 39, 39, 39, 39, 40, 40, 40, 40, 40, 40, 40, 40, 41, 41, 41, 41, 41, 41, 41, 41, 41, 41, 41, 42, 42, 42, 42, 42, 42, 42, 43, 43, 43, 43, 43, 43, 43, 43, 43, 43, 43, 43, 43, 43, 44, 44, 44, 44, 44, 44, 44, 44, 44, 44, 45, 45, 45, 45, 45, 45, 46, 46, 46, 46, 46, 46, 46, 46, 47, 47, 47, 47, 47, 48, 48, 48, 48, 48, 48, 48, 48, 48, 48, 48, 49, 49, 49, 49, 49, 49, 49, 49, 49, 50, 50, 50, 50, 50, 50, 50, 50, 51, 51, 51, 51, 51, 51, 51, 51, 51, 51, 51, 52, 52, 52, 52, 52, 52, 52, 52, 52, 52, 53, 53, 53, 53, 53, 53, 53, 53, 53, 54, 54, 54, 54, 54, 54, 54, 54, 54, 55, 55, 55, 55, 55, 55, 55, 55, 55, 55, 55, 55, 56, 56, 56, 56, 56, 56, 56, 56, 56, 56, 56, 56, 57, 57, 57, 57, 58, 58, 58, 58, 59, 59, 59, 59, 59, 59, 59, 59, 59, 60, 60, 60, 60, 60, 60, 60, 61, 61, 61, 61, 61, 61, 61, 61, 61, 61, 61, 61, 62, 62, 62, 62, 62, 62, 62, 62, 62, 62, 62, 62, 62, 62, 62, 62, 63, 63, 63, 63, 63, 63, 63, 63, 63, 63, 63, 64, 64, 64, 64, 64, 64, 64, 64, 64, 64, 65, 65, 65, 65, 65, 65, 65, 65, 65, 65, 65, 65, 66, 66, 66, 66, 66, 66, 66, 66, 66, 67, 67, 67, 67, 67, 67, 67, 67, 67, 67, 67, 67, 67, 68, 68, 68, 68, 68, 68, 68, 68, 69, 69, 69, 69, 69, 69, 69, 69, 70, 70, 70, 70, 70, 70, 71, 71, 71, 71, 71, 71, 71, 71, 71, 71, 71, 72, 72, 72, 72, 72, 72, 72, 72, 72, 72, 72, 72, 73, 73, 73, 73, 73, 74, 74, 74, 74, 74, 74, 74, 74, 74, 74, 74, 74, 74, 75, 75, 75, 75, 75, 75, 75, 76, 76, 76, 76, 76, 76, 76, 76, 77, 77, 77, 77, 77, 77, 77, 77, 77, 77, 77, 77, 77, 77, 77, 77, 77, 77, 78, 78, 78, 78, 78, 79, 79, 79, 79, 79, 79, 79, 79, 79, 79, 80, 80, 80, 80, 80, 80, 80, 81, 81, 81, 81, 81, 81, 81, 81, 81, 81, 81, 81, 81, 81, 81, 82, 82, 82, 82, 82, 82, 82, 83, 83, 83, 83, 83, 83, 83, 83, 83, 83, 83, 83, 83, 83, 83, 83, 84, 84, 84, 84, 84, 84, 84, 84, 84, 85, 85, 85, 85, 85, 85, 85, 85, 85, 86, 86, 86, 86, 86, 86, 86, 86, 86, 86, 86, 86, 86, 86, 86, 87, 87, 87, 87, 87, 87, 87, 88, 88, 88, 88, 88, 88, 88, 88, 88, 88, 88, 88, 88, 88, 88, 88, 88, 89, 89, 89, 89, 89, 89, 89, 89, 89, 89, 89, 90, 90, 90, 90, 90, 90, 90, 90, 90, 90, 90, 90, 90, 90, 90, 91, 91, 91, 91, 91, 91, 91, 91, 91, 91, 91, 91, 91, 92, 92, 92, 92, 92, 92, 92, 92, 92, 93, 93, 93, 93, 93, 93, 93, 93, 93, 93, 93, 93, 93, 93, 93, 93, 94, 94, 94, 94, 94, 94, 94, 94, 94, 94, 95, 95, 95, 95, 95, 95, 95, 95, 95, 95, 96, 96, 96, 96, 96, 96, 96, 96, 96, 96, 96, 96, 96, 97, 97, 97, 97, 97, 97, 97, 97, 98, 98, 98, 98, 98, 98, 98, 98, 99, 99, 99, 99, 99, 99, 99, 99, 99, 100, 100, 100, 100, 100, 100, 100, 100, 100, 100, 100]\n",
      "(INFO) process done.\n",
      "(INFO) execution time: 0.0013382434844970703\n"
     ]
    }
   ],
   "source": [
    "from time import time, sleep\n",
    "\n",
    "def count_invalid(func):\n",
    "    def wrapper(data):\n",
    "        valid_data = []\n",
    "        count = 0\n",
    "        for i in data:\n",
    "            try:\n",
    "                n = int(i)\n",
    "                if(0 <= n <= 100):\n",
    "                    valid_data.append(n)\n",
    "                else:\n",
    "                    count+=1\n",
    "            except ValueError:\n",
    "                count+=1\n",
    "        print(f\"(1) invalid scores: {count}\")\n",
    "        # sleep(3)\n",
    "        func(valid_data) # func: count_eachRange\n",
    "    return wrapper # count_invalid -> measure_time\n",
    "\n",
    "def count_eachRange(func):\n",
    "    def wrapper(data):\n",
    "        count = [0] * 11\n",
    "        for i in data:\n",
    "            i = int(i)\n",
    "            if 0 <= i <= 100:\n",
    "                count[i // 10] += 1\n",
    "        print(f\"(2) The number of students in each range:\")\n",
    "        for i in range(11):\n",
    "            if(i != 10):\n",
    "                print(i * 10,\"-\",i * 10 + 9,\":\",count[i])\n",
    "            else:\n",
    "                print(\"100:\",count[i])\n",
    "        # sleep(3)\n",
    "        func(data) # func: score_sort\n",
    "    return wrapper # count_eachRange -> count_invalid\n",
    "\n",
    "def score_sort(func):\n",
    "    def wrapper(data):\n",
    "        print(f\"(3) Sort the 1000 scores:\")\n",
    "        data = sorted(data)\n",
    "        print(data)\n",
    "        # sleep(3)\n",
    "        func(data) # func: exe2b\n",
    "    return wrapper # score_sort -> count_eachRange\n",
    "\n",
    "def measure_time(func):\n",
    "    def wrapper(data):\n",
    "        start = time()\n",
    "        func(data) # func: count_invalid\n",
    "            # count_invalid => count_eachRange => score_sort => exe2b\n",
    "        print(f\"(INFO) execution time:\", time() - start)\n",
    "    return wrapper # measure_time\n",
    "\n",
    "@measure_time\n",
    "@count_invalid\n",
    "@count_eachRange\n",
    "@score_sort\n",
    "def exe2b(data):\n",
    "    print(\"(INFO) process done.\")\n",
    "\n",
    "lines = []\n",
    "inputFileName = \"num.txt\"\n",
    "with open(inputFileName) as fh:\n",
    "    lines = [a.strip() for a in fh]\n",
    "\n",
    "exe2b(lines)"
   ]
  }
 ],
 "metadata": {
  "kernelspec": {
   "display_name": "Python 3 (ipykernel)",
   "language": "python",
   "name": "python3"
  },
  "language_info": {
   "codemirror_mode": {
    "name": "ipython",
    "version": 3
   },
   "file_extension": ".py",
   "mimetype": "text/x-python",
   "name": "python",
   "nbconvert_exporter": "python",
   "pygments_lexer": "ipython3",
   "version": "3.8.10"
  }
 },
 "nbformat": 4,
 "nbformat_minor": 5
}
