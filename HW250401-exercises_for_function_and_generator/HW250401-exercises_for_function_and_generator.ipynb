{
 "cells": [
  {
   "cell_type": "markdown",
   "id": "1cd3b409-9474-4849-80e3-5380e05ba757",
   "metadata": {},
   "source": [
    "# HW250401-exercises_for_function_and_generator"
   ]
  },
  {
   "cell_type": "markdown",
   "id": "c7268112-b7f2-4ebc-9a94-440ec1e62aee",
   "metadata": {},
   "source": [
    "## Exercise 1"
   ]
  },
  {
   "cell_type": "markdown",
   "id": "d5118a5b-daa3-4b9e-bf40-4552760e3d05",
   "metadata": {},
   "source": [
    "Ex 4: A continuous function `𝑓` with `𝑓(𝑎)𝑓(𝑏)<0` changes its sign in the interval \n",
    "`[𝑎,𝑏]` and has at least one root (zero) in this interval. Such a root can be found with the `bisection method`.\n",
    "This method starts from the given interval. Then it investigates the sign changes in the subintervals  \n",
    "`[a, (a+b)/2]`  \n",
    "and  \n",
    "`[(a+b)/2, b]`  \n",
    "If the sign changes in the first subinterval, 𝑏 is redefined to be:  \n",
    "`b := (a+b)/2`  \n",
    "Otherwise, it is redefined in the same manner to:  \n",
    "`a := (a+b)/2`  \n",
    "The process is repeated until the length of the interval, 𝑏−𝑎, is less than a given tolerance.\n",
    "* Implement this method as a function that takes as arguments:\n",
    "    * The function 𝑓\n",
    "    * The initial interval [𝑎,𝑏]\n",
    "    * The tolerance\n",
    "* This function `bisec` should return the final interval and its midpoint.\n",
    "* Test the method with the function `arctan` and also with the polynomial\n",
    "$f(x)=3x^2 −5$\n",
    "in the interval [1.1,1.4], and alternatively in [1.3,1.4]."
   ]
  },
  {
   "cell_type": "code",
   "execution_count": 51,
   "id": "24b8aa95-db9d-4099-8e6d-0fe1ab85c796",
   "metadata": {},
   "outputs": [
    {
     "name": "stdout",
     "output_type": "stream",
     "text": [
      "case1:\n",
      "final interval: a: 1.290993881225586 b: 1.2909944534301756\n",
      "midpoint: 1.2909941673278809\n",
      "case2:\n",
      "f(a) * f(b) >= 0\n",
      "case3:\n",
      "f(a) * f(b) >= 0\n",
      "case4:\n",
      "f(a) * f(b) >= 0\n"
     ]
    }
   ],
   "source": [
    "import numpy as np\n",
    "\n",
    "def f1(x):\n",
    "    return 3 * x ** 2 - 5\n",
    "def f2(x):\n",
    "    return np.arctan(x)\n",
    "\n",
    "def bisec(f,a,b,tol=1e-6):\n",
    "    if f(a) * f(b) >= 0:\n",
    "        print(\"f(a) * f(b) >= 0\")\n",
    "        return\n",
    "    while(abs(b-a) > tol):\n",
    "        c = (a + b) / 2\n",
    "        if f(c) == 0:\n",
    "            break\n",
    "        elif f(a) * f(c) < 0:\n",
    "            b = c\n",
    "        else:\n",
    "            a = c\n",
    "    \n",
    "    print(\"final interval:\",\"a:\",a,\"b:\",b)\n",
    "    print(\"midpoint:\",(a+b)/2)\n",
    "    \n",
    "print(\"case1:\"); bisec(f1,1.1,1.4)\n",
    "print(\"case2:\"); bisec(f1,1.3,1.4)\n",
    "print(\"case3:\"); bisec(f2,1.1,1.4)\n",
    "print(\"case4:\"); bisec(f2,1.3,1.4)"
   ]
  },
  {
   "cell_type": "markdown",
   "id": "3b15069d-8c01-433e-8333-0039b30bf23b",
   "metadata": {},
   "source": [
    "## Exercise 2"
   ]
  },
  {
   "cell_type": "markdown",
   "id": "1248849a-3d6f-4e7c-803e-01eb8885a258",
   "metadata": {},
   "source": [
    "Ex.5: The greatest common divisor of two integers can be computed with *Euclid's algorithm* described by the following recursion:\n",
    "$$\n",
    "        gcd(a,b) =\n",
    "        \\begin{cases}\n",
    "        a,  & \\text{if $b$ = 0} \\\\\n",
    "        \\text{gcd(b, a mod b)}, & \\text{otherwise}\n",
    "        \\end{cases}\n",
    "$$\n",
    "Write a function that computes the greatest common divisor of two integers. Write another function that computes the least common multiple of these numbers using the relation:\n",
    "$$\n",
    "        lcm(a,b) = \\frac{|ab|}{gcd(a,b)}\n",
    "$$"
   ]
  },
  {
   "cell_type": "code",
   "execution_count": 52,
   "id": "9983db62-65cc-4b08-a960-8fa87ee9cdfb",
   "metadata": {},
   "outputs": [
    {
     "name": "stdout",
     "output_type": "stream",
     "text": [
      "3534096.0\n"
     ]
    }
   ],
   "source": [
    "def gcd(a, b):\n",
    "    if b == 0:\n",
    "        return a\n",
    "    return gcd(b, a % b)\n",
    "\n",
    "def lcm(a, b):\n",
    "    return abs(a * b) / gcd(a, b)\n",
    "    \n",
    "print(lcm(1136,3111))"
   ]
  },
  {
   "cell_type": "markdown",
   "id": "1959901f-4ff2-4cd1-87aa-5eeb066bf5e1",
   "metadata": {},
   "source": [
    "## Exercise 3"
   ]
  },
  {
   "cell_type": "markdown",
   "id": "1fd4acc3-0a7a-4155-a1cd-28b574b96170",
   "metadata": {},
   "source": [
    "### a"
   ]
  },
  {
   "cell_type": "markdown",
   "id": "6b198023-8582-4d60-80ca-efbda73378a4",
   "metadata": {
    "tags": []
   },
   "source": [
    "Create a generator function which generates a sequence of  \n",
    "$$u_n=2u_{n−1}, u_0=1$$\n",
    "when a value n is given."
   ]
  },
  {
   "cell_type": "code",
   "execution_count": 53,
   "id": "e5bacfea-0f79-41ec-bed8-86ea2beca860",
   "metadata": {},
   "outputs": [
    {
     "name": "stdin",
     "output_type": "stream",
     "text": [
      "n: 10\n"
     ]
    },
    {
     "data": {
      "text/plain": [
       "[1, 2, 4, 8, 16, 32, 64, 128, 256, 512]"
      ]
     },
     "execution_count": 53,
     "metadata": {},
     "output_type": "execute_result"
    }
   ],
   "source": [
    "def igen(n):\n",
    "    u = 1\n",
    "    for a in range(n):\n",
    "        yield u\n",
    "        u *= 2\n",
    "\n",
    "n = int(input(\"n:\"))\n",
    "list(igen(n))"
   ]
  },
  {
   "cell_type": "markdown",
   "id": "8940ee3d-d53e-4165-8f82-4e47ee361a3d",
   "metadata": {},
   "source": [
    "### b"
   ]
  },
  {
   "cell_type": "markdown",
   "id": "88b28fc3-438d-40a0-ae52-551e554b4118",
   "metadata": {},
   "source": [
    "Create a generator function which generates a sequence of prime numbers less than n, when n is given."
   ]
  },
  {
   "cell_type": "code",
   "execution_count": 54,
   "id": "934458a4-a479-44f3-8fd6-18e89113d780",
   "metadata": {},
   "outputs": [
    {
     "name": "stdin",
     "output_type": "stream",
     "text": [
      "n: 20\n"
     ]
    },
    {
     "data": {
      "text/plain": [
       "[2, 3, 5, 7, 11, 13, 17, 19]"
      ]
     },
     "execution_count": 54,
     "metadata": {},
     "output_type": "execute_result"
    }
   ],
   "source": [
    "def igen(n):\n",
    "    def isPrime(a):\n",
    "        if a < 2:\n",
    "            return False\n",
    "        for b in range(2, int(a**0.5)+1):\n",
    "            if a % b == 0:\n",
    "                return False\n",
    "        return True\n",
    "            \n",
    "    for a in range(n):\n",
    "        if isPrime(a):\n",
    "            yield a\n",
    "    \n",
    "n = int(input(\"n:\"))\n",
    "list(igen(n))"
   ]
  },
  {
   "cell_type": "markdown",
   "id": "671c139f-8922-41b6-8500-b8ca9052773e",
   "metadata": {},
   "source": [
    "### Reference\n",
    "* 黃建庭(2020)。*Python 程式設計:從入門到進階應用* (第三版)。全華圖書。\n",
    "* maxkit(2020)。如何在 Markdown 輸入數學公式及符號。  \n",
    "https://blog.maxkit.com.tw/2020/02/markdown.html"
   ]
  }
 ],
 "metadata": {
  "kernelspec": {
   "display_name": "Python 3 (ipykernel)",
   "language": "python",
   "name": "python3"
  },
  "language_info": {
   "codemirror_mode": {
    "name": "ipython",
    "version": 3
   },
   "file_extension": ".py",
   "mimetype": "text/x-python",
   "name": "python",
   "nbconvert_exporter": "python",
   "pygments_lexer": "ipython3",
   "version": "3.8.10"
  }
 },
 "nbformat": 4,
 "nbformat_minor": 5
}
