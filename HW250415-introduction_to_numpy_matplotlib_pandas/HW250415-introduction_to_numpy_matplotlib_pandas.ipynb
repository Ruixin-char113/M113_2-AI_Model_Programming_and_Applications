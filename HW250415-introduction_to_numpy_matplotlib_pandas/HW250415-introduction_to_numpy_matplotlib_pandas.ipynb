{
 "cells": [
  {
   "cell_type": "markdown",
   "id": "1732ff84-48a5-4334-b606-37dc04c6e393",
   "metadata": {},
   "source": [
    "# HW250415-introduction_to_numpy_matplotlib_pandas"
   ]
  },
  {
   "cell_type": "markdown",
   "id": "e5f0771c-8d0d-4a71-907d-57d2e8d162b8",
   "metadata": {},
   "source": [
    "## Exercise 1\n",
    "Consider a `4 X 3` matrix:\n",
    "\n",
    "$$\n",
    "M = \\begin{bmatrix}\n",
    "1 & 2 & 3 \\\\\n",
    "4 & 5 & 6 \\\\\n",
    "7 & 8 & 9 \\\\\n",
    "10 & 11 & 12\n",
    "\\end{bmatrix}\n",
    "$$\n",
    "\n",
    "1. Construct this matrix in Python using the function `array`.\n",
    "2. Construct the same matrix using the function `arange` followed by a suitable `reshape`.\n",
    "3. What is the result of the expression `M[2, :]`? What is the result of the similar expression `M[2:]`?"
   ]
  },
  {
   "cell_type": "code",
   "execution_count": 68,
   "id": "4b863ccf-fb91-43db-9607-7b0066849b42",
   "metadata": {},
   "outputs": [
    {
     "name": "stdout",
     "output_type": "stream",
     "text": [
      "1 np.array:\n",
      " [[ 1  2  3]\n",
      " [ 4  5  6]\n",
      " [ 7  8  9]\n",
      " [10 11 12]]\n",
      "2 arange, reshape:\n",
      " [[ 1  2  3]\n",
      " [ 4  5  6]\n",
      " [ 7  8  9]\n",
      " [10 11 12]]\n",
      "3-1 M[2, :]\n",
      " [7 8 9]\n",
      "3-2 M[2:]\n",
      " [[ 7  8  9]\n",
      " [10 11 12]]\n"
     ]
    }
   ],
   "source": [
    "import numpy as np\n",
    "# 1 np.array\n",
    "M = np.array([[1,2,3], [4,5,6], [7,8,9], [10,11,12]])\n",
    "print(\"1 np.array:\\n\",M)\n",
    "\n",
    "# 2 arange, reshape\n",
    "M2 = np.arange(1,13).reshape(4,3)\n",
    "print(\"2 arange, reshape:\\n\",M2)\n",
    "\n",
    "# 3 M[2, :] and M[2:]\n",
    "print(\"3-1 M[2, :]\\n\", M[2, :])\n",
    "print(\"3-2 M[2:]\\n\", M[2:])"
   ]
  },
  {
   "cell_type": "markdown",
   "id": "b50dde5e-1bf7-487d-964f-0bcc2d10454f",
   "metadata": {},
   "source": [
    "## Exercise 3\n",
    "Let *u* be a one-dimensional array. Construct another array *ξ* with values  \n",
    "ξᵢ = (uᵢ + uᵢ₊₁ + uᵢ₊₂)/3.  \n",
    "In statistics, this array is called the *moving average* of *u*.  \n",
    "In approximation theory, it plays the role of the Greville abscissae of cubic splines.  \n",
    "Try to avoid the use of *for* loops in your script."
   ]
  },
  {
   "cell_type": "code",
   "execution_count": 69,
   "id": "b7ed4505-0a16-45d6-90e5-404d08f14144",
   "metadata": {},
   "outputs": [
    {
     "name": "stdout",
     "output_type": "stream",
     "text": [
      "u: [1 2 3 4 5 6 7 8 9]\n",
      "xi: [2. 3. 4. 5. 6. 7. 8.]\n"
     ]
    }
   ],
   "source": [
    "import numpy as np\n",
    "\n",
    "u = np.arange(1, 10) # 1 ~ 3n + 1, n >= 1\n",
    "print(\"u:\",u)\n",
    "\n",
    "xi = (u[0:-2] + u[1:-1] + u[2:]) / 3\n",
    "print(\"xi:\",xi)"
   ]
  },
  {
   "cell_type": "markdown",
   "id": "7da44eb0-dd1d-4fae-8aa2-13c35c4a0abb",
   "metadata": {},
   "source": [
    "## Exercise 4\n",
    "write a function that plots an ellipse given its center coordinates (x,\n",
    "y), the half axis a, b, and rotation angle theta\n",
    "``` python\n",
    "plot_ellipse(x=0, y=0, a=5, b=3, theta=np.pi/6)\n",
    "```"
   ]
  },
  {
   "cell_type": "code",
   "execution_count": 70,
   "id": "45b781f4-33d8-4ae9-90cf-5eb926850ce6",
   "metadata": {},
   "outputs": [
    {
     "data": {
      "image/png": "[encoded data removed]",
      "text/plain": [
       "<Figure size 640x480 with 1 Axes>"
      ]
     },
     "metadata": {},
     "output_type": "display_data"
    }
   ],
   "source": [
    "import numpy as np\n",
    "import matplotlib.pyplot as plt\n",
    "from matplotlib.patches import Ellipse\n",
    "\n",
    "def plot_ellipse(x, y, a, b, theta):\n",
    "    fig, ax = plt.subplots()\n",
    "    e = Ellipse(xy = (x,y), width = 2*a, height = 2*b, angle = np.degrees(theta), facecolor = 'none', edgecolor = 'b')\n",
    "    \n",
    "    ax.add_patch(e)\n",
    "    ax.relim()\n",
    "    ax.autoscale_view()\n",
    "    plt.show()\n",
    "\n",
    "plot_ellipse(x=0, y=0, a=5, b=3, theta=np.pi/6)\n",
    "# plot_ellipse(x=100, y=-90, a=70, b=20, theta=np.pi/2)"
   ]
  },
  {
   "cell_type": "markdown",
   "id": "fe01e516-3429-4b1a-93c1-9901691773c1",
   "metadata": {},
   "source": [
    "## Reference\n",
    "* matplotlib.patches.Ellipse  \n",
    "https://matplotlib.org/stable/api/_as_gen/matplotlib.patches.Ellipse.html#examples-using-matplotlib-patches-ellipse"
   ]
  }
 ],
 "metadata": {
  "kernelspec": {
   "display_name": "Python 3 (ipykernel)",
   "language": "python",
   "name": "python3"
  },
  "language_info": {
   "codemirror_mode": {
    "name": "ipython",
    "version": 3
   },
   "file_extension": ".py",
   "mimetype": "text/x-python",
   "name": "python",
   "nbconvert_exporter": "python",
   "pygments_lexer": "ipython3",
   "version": "3.8.10"
  }
 },
 "nbformat": 4,
 "nbformat_minor": 5
}
